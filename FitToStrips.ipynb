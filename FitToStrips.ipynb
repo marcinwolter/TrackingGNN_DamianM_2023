{
 "cells": [
  {
   "cell_type": "markdown",
   "id": "1db2f376",
   "metadata": {},
   "source": [
    "# Program to fit a straight line to the set of arbitrary strips"
   ]
  },
  {
   "cell_type": "code",
   "execution_count": 1,
   "id": "53d4841d",
   "metadata": {},
   "outputs": [],
   "source": [
    "import numpy as np\n",
    "from scipy.optimize import minimize"
   ]
  },
  {
   "cell_type": "code",
   "execution_count": 2,
   "id": "ee105a6c",
   "metadata": {},
   "outputs": [],
   "source": [
    "# calculate distance between two lines in 3D\n",
    "def distance_between_lines(a, b, c, d):\n",
    "    # a - first point of the first line in 3D (x,y,z)\n",
    "    # b - second point of the first line\n",
    "    # c - first point of the second line\n",
    "    # d - second point of the second line\n",
    "    # https://math.stackexchange.com/questions/210848/finding-the-shortest-distance-between-two-lines\n",
    "    v1 = np.array(b) - np.array(a)\n",
    "    v2 = np.array(d) - np.array(c)\n",
    "    cross = np.cross(v1, v2)\n",
    "    if cross.any() != 0:\n",
    "        # lines not parallel\n",
    "        cross = cross/np.linalg.norm(cross)\n",
    "        return np.dot(cross,np.subtract(c,a))\n",
    "    else:\n",
    "        # lines parallel - calculate a distance from point c to line (a,b)\n",
    "        # https://stackoverflow.com/questions/39840030/distance-between-point-and-a-line-from-two-points\n",
    "        return np.linalg.norm(np.cross(np.subtract(b,a),np.subtract(c,a)))/np.linalg.norm(np.subtract(b,a))\n",
    "    "
   ]
  },
  {
   "cell_type": "code",
   "execution_count": 3,
   "id": "9af61a32",
   "metadata": {},
   "outputs": [],
   "source": [
    "# calculate Chi2\n",
    "\n",
    "def chiSquare(par):\n",
    "    # par = [Ax, Ay, Bx, By]\n",
    "    # track:  X = Ax*z +Bx, Y = Ay*z +By\n",
    "    #  \n",
    "    Z0 = 0\n",
    "    Z1 = 100\n",
    "    tr0 = (par[0]*Z0+par[2], par[1]*Z0+par[3], Z0)\n",
    "    tr1 = (par[0]*Z1+par[2], par[1]*Z1+par[3], Z1)\n",
    "           \n",
    "    chi2 = 0\n",
    "    for iStrip in strips:\n",
    "        chi2 = chi2 + distance_between_lines(tr0, tr1, iStrip[0], iStrip[1])**2\n",
    "        #print(\"chi2 \",tr0, tr1, iStrip[0], iStrip[1], distance_between_lines(tr0, tr1, iStrip[0], iStrip[1]))\n",
    "    return chi2       \n",
    "           "
   ]
  },
  {
   "cell_type": "markdown",
   "id": "ed30fdde",
   "metadata": {},
   "source": [
    "# Example of  usage"
   ]
  },
  {
   "cell_type": "code",
   "execution_count": 4,
   "id": "c9998648",
   "metadata": {},
   "outputs": [
    {
     "name": "stdout",
     "output_type": "stream",
     "text": [
      "chiSquare =  1.7199999999999998\n",
      " message: Optimization terminated successfully\n",
      " success: True\n",
      "  status: 0\n",
      "     fun: 0.013333334520843709\n",
      "       x: [-3.365e-06 -2.958e-06  5.333e-01  5.333e-01]\n",
      "     nit: 6\n",
      "     jac: [-2.238e-03  1.726e-03 -2.429e-04  2.373e-04]\n",
      "    nfev: 38\n",
      "    njev: 6\n"
     ]
    }
   ],
   "source": [
    "# Fit a straight track (described by pars) to the set of arbitrary strips (described by strips)\n",
    "\n",
    "strips = ( ((0, 0, 0), (1, 1, 0)), ((0, 1, 1), (1, 0, 1)),\n",
    "           ((0, 0, 5), (1, 1, 5)), ((0, 1.2, 6), (1.2, 0, 6)),\n",
    "           ((0, 0, 10), (1, 1, 10)), ((0, 1, 11), (1, 0, 11)))\n",
    "#strips = (((0, 0, 0), (0, 0, 3)), ((1, 1, 0), (1, 1, 30)))\n",
    "\n",
    "par = np.zeros(4)\n",
    "print(\"chiSquare = \", chiSquare(par))\n",
    "\n",
    "res = minimize(chiSquare, par, method='SLSQP')\n",
    "print(res)"
   ]
  },
  {
   "cell_type": "code",
   "execution_count": 5,
   "id": "e6364a75",
   "metadata": {},
   "outputs": [
    {
     "name": "stdout",
     "output_type": "stream",
     "text": [
      "The distance between the two lines is 20.00\n",
      "The distance between the two lines is 1.41\n"
     ]
    }
   ],
   "source": [
    "\n",
    "# distance between the two lines\n",
    "a, b, c, d = (0, 0, 0), (1, 1, 0), (0, 0, 20), (1, 1, 20)\n",
    "\n",
    "distance = distance_between_lines(a, b, c, d)\n",
    "print(f\"The distance between the two lines is {distance:.2f}\")\n",
    "\n",
    "a, b, c, d = (0, 0, 0), (0, 0, 3), (1, 1, 0), (1, 1, 30)\n",
    "\n",
    "distance = distance_between_lines(a, b, c, d)\n",
    "print(f\"The distance between the two lines is {distance:.2f}\")"
   ]
  },
  {
   "cell_type": "code",
   "execution_count": 6,
   "id": "d8bd04f2",
   "metadata": {},
   "outputs": [
    {
     "name": "stdout",
     "output_type": "stream",
     "text": [
      "2.0000000000000004\n"
     ]
    }
   ],
   "source": [
    "# Chi square for the fit of track described by par and a set of strips\n",
    "strips = (((0, 0, 0), (0, 0, 3)), ((1, 1, 0), (1, 1, 30)))\n",
    "\n",
    "par = np.zeros(4)\n",
    "\n",
    "print(chiSquare(par))"
   ]
  }
 ],
 "metadata": {
  "kernelspec": {
   "display_name": "Python 3 (ipykernel)",
   "language": "python",
   "name": "python3"
  },
  "language_info": {
   "codemirror_mode": {
    "name": "ipython",
    "version": 3
   },
   "file_extension": ".py",
   "mimetype": "text/x-python",
   "name": "python",
   "nbconvert_exporter": "python",
   "pygments_lexer": "ipython3",
   "version": "3.9.7"
  }
 },
 "nbformat": 4,
 "nbformat_minor": 5
}
