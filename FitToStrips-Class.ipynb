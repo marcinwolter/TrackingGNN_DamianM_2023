{
 "cells": [
  {
   "cell_type": "markdown",
   "id": "1db2f376",
   "metadata": {},
   "source": [
    "# Program to fit a straight line to the set of arbitrary strips"
   ]
  },
  {
   "cell_type": "code",
   "execution_count": 1,
   "id": "53d4841d",
   "metadata": {},
   "outputs": [],
   "source": [
    "import numpy as np\n",
    "from scipy.optimize import minimize"
   ]
  },
  {
   "cell_type": "code",
   "execution_count": 2,
   "id": "377554ca",
   "metadata": {},
   "outputs": [],
   "source": [
    "class RANSAC:\n",
    "    def __init__(self, n=10, k=100, t=0.05, d=10, model=None, loss=None, metric=None):\n",
    "        self.n = n              # `n`: Minimum number of data points to estimate parameters\n",
    "        self.k = k              # `k`: Maximum iterations allowed\n",
    "        self.t = t              # `t`: Threshold value to determine if points are fit well\n",
    "        self.d = d              # `d`: Number of close data points required to assert model fits well\n",
    "        self.loss = loss        # `loss`: function of `y_true` and `y_pred` that returns a vector\n",
    "        self.metric = metric    # `metric`: function of `y_true` and `y_pred` and returns a float\n",
    "        self.fun = 0\n",
    "        self.x = np.zeros(4)\n",
    "        self.jac = np.zeros(4)\n",
    "        \n",
    "    # calculate Chi2\n",
    "    def chiSquare(self, par):\n",
    "        # par = [Ax, Ay, Bx, By]\n",
    "        # track:  X = Ax*z +Bx, Y = Ay*z +By\n",
    "        #  \n",
    "        \n",
    "        Z0 = 0\n",
    "        Z1 = 100\n",
    "        tr0 = (par[0]*Z0+par[2], par[1]*Z0+par[3], Z0)\n",
    "        tr1 = (par[0]*Z1+par[2], par[1]*Z1+par[3], Z1)\n",
    "           \n",
    "        chi2 = 0\n",
    "        for iStrip in strips:\n",
    "            chi2 = chi2 + self.distance_between_lines(tr0, tr1, iStrip[0], iStrip[1])**2\n",
    "            #print(\"chi2 \",tr0, tr1, iStrip[0], iStrip[1], distance_between_lines(tr0, tr1, iStrip[0], iStrip[1]))\n",
    "        return chi2           \n",
    "\n",
    "    # calculate distance between two lines in 3D\n",
    "    def distance_between_lines(self, a, b, c, d):\n",
    "        # a - first point of the first line in 3D (x,y,z)\n",
    "        # b - second point of the first line\n",
    "        # c - first point of the second line\n",
    "        # d - second point of the second line\n",
    "        # https://math.stackexchange.com/questions/210848/finding-the-shortest-distance-between-two-lines\n",
    "        v1 = np.array(b) - np.array(a)\n",
    "        v2 = np.array(d) - np.array(c)\n",
    "        cross = np.cross(v1, v2)\n",
    "        if cross.any() != 0:\n",
    "            # lines not parallel\n",
    "            cross = cross/np.linalg.norm(cross)\n",
    "            return np.dot(cross,np.subtract(c,a))\n",
    "        else:\n",
    "            # lines parallel - calculate a distance from point c to line (a,b)\n",
    "            # https://stackoverflow.com/questions/39840030/distance-between-point-and-a-line-from-two-points\n",
    "            return np.linalg.norm(np.cross(np.subtract(b,a),np.subtract(c,a)))/np.linalg.norm(np.subtract(b,a))\n",
    "        \n",
    "    #actual fit    \n",
    "    def fit(self, iStrips):\n",
    "        \n",
    "        par = np.zeros(4)\n",
    "        \n",
    "        #xx = self.chiSquare(self)\n",
    "       \n",
    "        res = minimize(self.chiSquare, par, method='SLSQP')\n",
    "        self.x = res.x\n",
    "        self.jac = res.jac\n",
    "        self.fun = res.fun\n",
    "        print(res)\n",
    "              \n",
    "        return self"
   ]
  },
  {
   "cell_type": "markdown",
   "id": "ed30fdde",
   "metadata": {},
   "source": [
    "# Example of  usage"
   ]
  },
  {
   "cell_type": "code",
   "execution_count": 3,
   "id": "c9998648",
   "metadata": {},
   "outputs": [
    {
     "name": "stdout",
     "output_type": "stream",
     "text": [
      " message: Optimization terminated successfully\n",
      " success: True\n",
      "  status: 0\n",
      "     fun: 0.013333334520843709\n",
      "       x: [-3.365e-06 -2.958e-06  5.333e-01  5.333e-01]\n",
      "     nit: 6\n",
      "     jac: [-2.238e-03  1.726e-03 -2.429e-04  2.373e-04]\n",
      "    nfev: 38\n",
      "    njev: 6\n",
      "Fitted chi_2:  0.013333334520843709 Fit results:  [-3.36494863e-06 -2.95841841e-06  5.33346838e-01  5.33346891e-01]  +-  [-0.00223782  0.00172553 -0.00024288  0.00023727]\n"
     ]
    }
   ],
   "source": [
    "# Fit a straight track (described by pars) to the set of arbitrary strips (described by strips)\n",
    "\n",
    "strips = ( ((0, 0, 0), (1, 1, 0)), ((0, 1, 1), (1, 0, 1)),\n",
    "           ((0, 0, 5), (1, 1, 5)), ((0, 1.2, 6), (1.2, 0, 6)),\n",
    "           ((0, 0, 10), (1, 1, 10)), ((0, 1, 11), (1, 0, 11)))\n",
    "#strips = (((0, 0, 0), (0, 0, 3)), ((1, 1, 0), (1, 1, 30)))\n",
    "\n",
    "regressor = RANSAC()\n",
    "regressor.fit(strips)\n",
    "\n",
    "\n",
    "print(\"Fitted chi_2: \",regressor.fun, \"Fit results: \",regressor.x,\" +- \", regressor.jac)"
   ]
  },
  {
   "cell_type": "code",
   "execution_count": null,
   "id": "6aab9f90",
   "metadata": {},
   "outputs": [],
   "source": []
  }
 ],
 "metadata": {
  "kernelspec": {
   "display_name": "Python 3 (ipykernel)",
   "language": "python",
   "name": "python3"
  },
  "language_info": {
   "codemirror_mode": {
    "name": "ipython",
    "version": 3
   },
   "file_extension": ".py",
   "mimetype": "text/x-python",
   "name": "python",
   "nbconvert_exporter": "python",
   "pygments_lexer": "ipython3",
   "version": "3.9.7"
  }
 },
 "nbformat": 4,
 "nbformat_minor": 5
}
