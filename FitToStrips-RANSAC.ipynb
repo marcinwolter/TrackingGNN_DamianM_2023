{
 "cells": [
  {
   "cell_type": "markdown",
   "id": "1db2f376",
   "metadata": {},
   "source": [
    "# Program to fit a straight line to the set of arbitrary strips"
   ]
  },
  {
   "cell_type": "code",
   "execution_count": 1,
   "id": "53d4841d",
   "metadata": {},
   "outputs": [],
   "source": [
    "import numpy as np\n",
    "from scipy.optimize import minimize\n",
    "from numpy.random import default_rng\n",
    "rng = default_rng()"
   ]
  },
  {
   "cell_type": "code",
   "execution_count": 2,
   "id": "377554ca",
   "metadata": {},
   "outputs": [],
   "source": [
    "class RANSAC:\n",
    "    def __init__(self, n=5, k=100, t=0.005, d=8, model=None, loss=None, metric=None):\n",
    "        self.n = n              # `n`: Minimum number of data points to estimate parameters\n",
    "        self.k = k              # `k`: Maximum iterations allowed\n",
    "        self.t = t              # `t`: Threshold value to determine if points are fit well\n",
    "        self.d = d              # `d`: Number of close data points required to assert model fits well\n",
    "        self.loss = loss        # `loss`: function of `y_true` and `y_pred` that returns a vector\n",
    "        self.metric = metric    # `metric`: function of `y_true` and `y_pred` and returns a float\n",
    "        self.fun = 0.0          # chi_2 of the fit\n",
    "        self.x = np.zeros(4)        # fit result\n",
    "        self.jac = np.zeros(4)      # resulting jacobian\n",
    "        self.bestStrips = np.empty  # strips used for fitting\n",
    "        self.currStrips = np.empty  \n",
    "        \n",
    "        \n",
    "    # calculate total Chi2\n",
    "    def chiSquare(self, par):\n",
    "        # par = [Ax, Ay, Bx, By]\n",
    "        # track:  X = Ax*z +Bx, Y = Ay*z +By\n",
    "        #  \n",
    "        \n",
    "        Z0 = 0\n",
    "        Z1 = 100\n",
    "        tr0 = (par[0]*Z0+par[2], par[1]*Z0+par[3], Z0)\n",
    "        tr1 = (par[0]*Z1+par[2], par[1]*Z1+par[3], Z1)\n",
    "           \n",
    "        chi2 = 0\n",
    "        for iStrip in self.currStrips:\n",
    "            chi2 = chi2 + self.distance_between_lines(tr0, tr1, iStrip[0], iStrip[1])**2\n",
    "        return chi2           \n",
    "        \n",
    "    # calculate single strip Chi2\n",
    "    def chiSquareSingle(self, par, kStrip):\n",
    "        # par = [Ax, Ay, Bx, By]\n",
    "        # track:  X = Ax*z +Bx, Y = Ay*z +By\n",
    "        #  \n",
    "        \n",
    "        Z0 = 0\n",
    "        Z1 = 100\n",
    "        tr0 = (par[0]*Z0+par[2], par[1]*Z0+par[3], Z0)\n",
    "        tr1 = (par[0]*Z1+par[2], par[1]*Z1+par[3], Z1)\n",
    "           \n",
    "        chi2 = self.distance_between_lines(tr0, tr1, kStrip[0], kStrip[1])**2\n",
    "        return chi2     \n",
    "    \n",
    "    # calculate distance between two lines in 3D\n",
    "    def distance_between_lines(self, a, b, c, d):\n",
    "        # a - first point of the first line in 3D (x,y,z)\n",
    "        # b - second point of the first line\n",
    "        # c - first point of the second line\n",
    "        # d - second point of the second line\n",
    "        # https://math.stackexchange.com/questions/210848/finding-the-shortest-distance-between-two-lines\n",
    "        v1 = np.array(b) - np.array(a)\n",
    "        v2 = np.array(d) - np.array(c)\n",
    "        cross = np.cross(v1, v2)\n",
    "        if cross.any() != 0:\n",
    "            # lines not parallel\n",
    "            cross = cross/np.linalg.norm(cross)\n",
    "            return np.dot(cross,np.subtract(c,a))\n",
    "        else:\n",
    "            # lines parallel - calculate a distance from point c to line (a,b)\n",
    "            # https://stackoverflow.com/questions/39840030/distance-between-point-and-a-line-from-two-points\n",
    "            return np.linalg.norm(np.cross(np.subtract(b,a),np.subtract(c,a)))/np.linalg.norm(np.subtract(b,a))\n",
    "        \n",
    "    #actual fit    \n",
    "    def fit(self, strips):\n",
    "        \n",
    "        par = np.zeros(4)\n",
    "        # fit to all points\n",
    "        self.currStrips = strips\n",
    "        resBest = minimize(self.chiSquare, par, method='SLSQP')\n",
    "\n",
    "        \n",
    "        for _ in range(self.k):\n",
    "            ids = rng.permutation(strips.shape[0])\n",
    "\n",
    "            self.currStrips = strips[ids[: self.n]]\n",
    "            res = minimize(self.chiSquare, par, method='SLSQP')\n",
    "\n",
    "            # check whether currStrips are below threshold\n",
    "            maxChi2 = 0;\n",
    "            for kStrip in self.currStrips:\n",
    "                chi2 = self.chiSquareSingle(res.x, kStrip)\n",
    "                if chi2 > maxChi2:\n",
    "                    maxChi2 = chi2\n",
    "                    if chi2 > self.t:\n",
    "                        break\n",
    "            \n",
    "            if maxChi2 < self.t:\n",
    "                # add points that are close to the fitted model\n",
    "                for kStrip in strips[ids[self.n:]]:\n",
    "                    if self.chiSquareSingle(res.x, kStrip) < self.t: \n",
    "                        self.currStrips = np.append(self.currStrips, kStrip).reshape(self.currStrips.shape[0]+1,\n",
    "                            self.currStrips.shape[1],self.currStrips.shape[2])\n",
    "                        \n",
    "            if self.currStrips.shape[0] >= self.d:\n",
    "                res = minimize(self.chiSquare, par, method='SLSQP')\n",
    "                if res.fun < resBest.fun:\n",
    "                    resBest = res\n",
    "                    self.bestStrips = self.currStrips\n",
    "                \n",
    "                \n",
    "                       \n",
    "        self.x = resBest.x\n",
    "        self.jac = resBest.jac\n",
    "        self.fun = resBest.fun\n",
    "        print(resBest)\n",
    "              \n",
    "        return self"
   ]
  },
  {
   "cell_type": "markdown",
   "id": "ed30fdde",
   "metadata": {},
   "source": [
    "# Example of  usage"
   ]
  },
  {
   "cell_type": "code",
   "execution_count": 3,
   "id": "6aab9f90",
   "metadata": {},
   "outputs": [],
   "source": [
    "# Arbitrary 10 layer strip telescope with randomly rotated strips\n",
    "# Hit generator\n",
    "\n",
    "import numpy as np\n",
    "import random as rnd"
   ]
  },
  {
   "cell_type": "code",
   "execution_count": 4,
   "id": "70d0b2cf",
   "metadata": {},
   "outputs": [
    {
     "name": "stdout",
     "output_type": "stream",
     "text": [
      " Generated track parameters Ax, Ay, Bx, By =  0.014280518937982697 -0.014222189064977075 0.15618260226894076 -0.5878035357209965\n",
      "Z and rotation angles of strips:  [0 1 2 3 4 5 6 7 8 9] [1.45494288 1.59672535 1.98253132 2.28328134 0.95663819 3.12947596\n",
      " 0.99373546 0.84544686 1.62292514 0.98524946]\n"
     ]
    }
   ],
   "source": [
    "# error\n",
    "sigma = 0.01\n",
    "# n noisy hits\n",
    "n_noise = 2\n",
    "\n",
    "n = 10 # n-layers\n",
    "Z = np.arange(0, n)\n",
    "\n",
    "rnd.seed(10)\n",
    "#track parameters\n",
    "Ax = rnd.uniform(-0.1, 0.1)\n",
    "Ay = rnd.uniform(-0.1, 0.1)\n",
    "Bx = rnd.uniform(-1, 1)\n",
    "By = rnd.uniform(-1, 1)\n",
    "\n",
    "print(\" Generated track parameters Ax, Ay, Bx, By = \", Ax, Ay, Bx, By)\n",
    "#strip rotation angles\n",
    "rot = np.random.uniform(0, np.pi, n)\n",
    "\n",
    "print(\"Z and rotation angles of strips: \",Z, rot)"
   ]
  },
  {
   "cell_type": "code",
   "execution_count": 5,
   "id": "e8fa5f35",
   "metadata": {},
   "outputs": [],
   "source": [
    "n = 10 # n-layers\n",
    "# error\n",
    "sigma = 0.001\n",
    "# n noisy hits\n",
    "n_noise = 10\n",
    "# sigma of noisy hits\n",
    "sigma_noise = 2\n",
    "# half-length of a strip\n",
    "R = 5.\n"
   ]
  },
  {
   "cell_type": "code",
   "execution_count": 6,
   "id": "ed33c1ac",
   "metadata": {},
   "outputs": [],
   "source": [
    "\n",
    "hits = np.zeros([n+n_noise,3])\n",
    "strips = np.zeros([n+n_noise,2,3])\n",
    "rotx = np.zeros([n+n_noise])\n",
    "\n",
    "# real hits\n",
    "for i in range(n):\n",
    "    hits[i,0] = Ax*Z[i]+Bx + rnd.gauss(0, sigma)\n",
    "    hits[i,1] = Ay*Z[i]+By + rnd.gauss(0, sigma)\n",
    "    hits[i,2] = Z[i]\n",
    "    rotx[i] = rot[i]\n",
    "    \n",
    "# Adding noisy hits\n",
    "for i in range(n,n+n_noise):\n",
    "    hits[i,0] = rnd.gauss(0, sigma_noise)\n",
    "    hits[i,1] = rnd.gauss(0, sigma_noise)\n",
    "    hits[i,2] = Z[rnd.randint(0,n-1)]\n",
    "    \n",
    "# translate hits into strips fired\n",
    "for i in range(n+n_noise):    \n",
    "    strips[i,0,0] = hits[i,0]-R*np.cos(rotx[i])\n",
    "    strips[i,0,1] = hits[i,1]-R*np.sin(rotx[i])\n",
    "    strips[i,0,2] = hits[i,2]\n",
    "    \n",
    "    strips[i,1,0] = hits[i,0]+R*np.cos(rotx[i])\n",
    "    strips[i,1,1] = hits[i,1]+R*np.sin(rotx[i])\n",
    "    strips[i,1,2] = hits[i,2]\n",
    "    \n",
    "#print(hits)    \n",
    "#print(strips) "
   ]
  },
  {
   "cell_type": "markdown",
   "id": "622f2784",
   "metadata": {},
   "source": [
    "### Actual RANSAC fit"
   ]
  },
  {
   "cell_type": "code",
   "execution_count": 7,
   "id": "3cc3f0c9",
   "metadata": {},
   "outputs": [
    {
     "name": "stdout",
     "output_type": "stream",
     "text": [
      " message: Optimization terminated successfully\n",
      " success: True\n",
      "  status: 0\n",
      "     fun: 6.085023810370193e-06\n",
      "       x: [ 1.407e-02 -1.469e-02  1.567e-01 -5.862e-01]\n",
      "     nit: 8\n",
      "     jac: [-5.739e-03 -5.931e-03 -5.255e-04 -9.313e-04]\n",
      "    nfev: 48\n",
      "    njev: 8\n",
      "Fitted chi_2:  6.085023810370193e-06 No. of hits:  10\n",
      "Fit results Ax, Ay, Bx, By:  [ 0.01406628 -0.01468748  0.1566922  -0.5862025 ]  +-  [-0.00573879 -0.00593057 -0.00052548 -0.00093131]\n"
     ]
    }
   ],
   "source": [
    "regressor = RANSAC()\n",
    "regressor.fit(strips)\n",
    "\n",
    "\n",
    "print(\"Fitted chi_2: \",regressor.fun, \"No. of hits: \", regressor.bestStrips.shape[0])\n",
    "print(\"Fit results Ax, Ay, Bx, By: \",regressor.x,\" +- \", regressor.jac)"
   ]
  }
 ],
 "metadata": {
  "kernelspec": {
   "display_name": "Python 3 (ipykernel)",
   "language": "python",
   "name": "python3"
  },
  "language_info": {
   "codemirror_mode": {
    "name": "ipython",
    "version": 3
   },
   "file_extension": ".py",
   "mimetype": "text/x-python",
   "name": "python",
   "nbconvert_exporter": "python",
   "pygments_lexer": "ipython3",
   "version": "3.9.7"
  }
 },
 "nbformat": 4,
 "nbformat_minor": 5
}
